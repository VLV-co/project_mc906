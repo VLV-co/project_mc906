{
 "cells": [
  {
   "cell_type": "code",
   "execution_count": 75,
   "metadata": {},
   "outputs": [
    {
     "name": "stdout",
     "output_type": "stream",
     "text": [
      "Defaulting to user installation because normal site-packages is not writeable\n",
      "Requirement already satisfied: statsmodels in c:\\users\\luizg\\appdata\\roaming\\python\\python313\\site-packages (0.14.4)\n",
      "Requirement already satisfied: numpy<3,>=1.22.3 in c:\\users\\luizg\\appdata\\roaming\\python\\python313\\site-packages (from statsmodels) (2.2.4)\n",
      "Requirement already satisfied: scipy!=1.9.2,>=1.8 in c:\\users\\luizg\\appdata\\roaming\\python\\python313\\site-packages (from statsmodels) (1.15.2)\n",
      "Requirement already satisfied: pandas!=2.1.0,>=1.4 in c:\\users\\luizg\\appdata\\roaming\\python\\python313\\site-packages (from statsmodels) (2.2.3)\n",
      "Requirement already satisfied: patsy>=0.5.6 in c:\\users\\luizg\\appdata\\roaming\\python\\python313\\site-packages (from statsmodels) (1.0.1)\n",
      "Requirement already satisfied: packaging>=21.3 in c:\\users\\luizg\\appdata\\roaming\\python\\python313\\site-packages (from statsmodels) (24.2)\n",
      "Requirement already satisfied: python-dateutil>=2.8.2 in c:\\users\\luizg\\appdata\\roaming\\python\\python313\\site-packages (from pandas!=2.1.0,>=1.4->statsmodels) (2.9.0.post0)\n",
      "Requirement already satisfied: pytz>=2020.1 in c:\\users\\luizg\\appdata\\roaming\\python\\python313\\site-packages (from pandas!=2.1.0,>=1.4->statsmodels) (2025.2)\n",
      "Requirement already satisfied: tzdata>=2022.7 in c:\\users\\luizg\\appdata\\roaming\\python\\python313\\site-packages (from pandas!=2.1.0,>=1.4->statsmodels) (2025.2)\n",
      "Requirement already satisfied: six>=1.5 in c:\\users\\luizg\\appdata\\roaming\\python\\python313\\site-packages (from python-dateutil>=2.8.2->pandas!=2.1.0,>=1.4->statsmodels) (1.17.0)\n"
     ]
    },
    {
     "name": "stderr",
     "output_type": "stream",
     "text": [
      "\n",
      "[notice] A new release of pip is available: 24.3.1 -> 25.1.1\n",
      "[notice] To update, run: python.exe -m pip install --upgrade pip\n"
     ]
    }
   ],
   "source": [
    "!pip install statsmodels"
   ]
  },
  {
   "cell_type": "markdown",
   "metadata": {},
   "source": [
    "# Predict model performance"
   ]
  },
  {
   "cell_type": "code",
   "execution_count": 76,
   "metadata": {},
   "outputs": [],
   "source": [
    "import pandas as pd\n",
    "import statsmodels.api as sm\n",
    "import matplotlib.pyplot as plt"
   ]
  },
  {
   "cell_type": "code",
   "execution_count": 77,
   "metadata": {},
   "outputs": [],
   "source": [
    "DATA_PATH = 'data/aggregated/experiments.csv'"
   ]
  },
  {
   "cell_type": "markdown",
   "metadata": {},
   "source": [
    "Data"
   ]
  },
  {
   "cell_type": "code",
   "execution_count": 78,
   "metadata": {},
   "outputs": [
    {
     "data": {
      "text/html": [
       "<div>\n",
       "<style scoped>\n",
       "    .dataframe tbody tr th:only-of-type {\n",
       "        vertical-align: middle;\n",
       "    }\n",
       "\n",
       "    .dataframe tbody tr th {\n",
       "        vertical-align: top;\n",
       "    }\n",
       "\n",
       "    .dataframe thead th {\n",
       "        text-align: right;\n",
       "    }\n",
       "</style>\n",
       "<table border=\"1\" class=\"dataframe\">\n",
       "  <thead>\n",
       "    <tr style=\"text-align: right;\">\n",
       "      <th></th>\n",
       "      <th>topology</th>\n",
       "      <th>cells_number</th>\n",
       "      <th>possible_moves</th>\n",
       "      <th>connection_degree</th>\n",
       "      <th>depth</th>\n",
       "      <th>mean_log2_max_tile</th>\n",
       "    </tr>\n",
       "  </thead>\n",
       "  <tbody>\n",
       "    <tr>\n",
       "      <th>0</th>\n",
       "      <td>hex</td>\n",
       "      <td>19</td>\n",
       "      <td>6</td>\n",
       "      <td>4.421053</td>\n",
       "      <td>2</td>\n",
       "      <td>11.275</td>\n",
       "    </tr>\n",
       "    <tr>\n",
       "      <th>1</th>\n",
       "      <td>hex</td>\n",
       "      <td>19</td>\n",
       "      <td>6</td>\n",
       "      <td>4.421053</td>\n",
       "      <td>1</td>\n",
       "      <td>11.105</td>\n",
       "    </tr>\n",
       "    <tr>\n",
       "      <th>2</th>\n",
       "      <td>hex</td>\n",
       "      <td>19</td>\n",
       "      <td>6</td>\n",
       "      <td>4.421053</td>\n",
       "      <td>4</td>\n",
       "      <td>13.065</td>\n",
       "    </tr>\n",
       "    <tr>\n",
       "      <th>3</th>\n",
       "      <td>hex</td>\n",
       "      <td>19</td>\n",
       "      <td>6</td>\n",
       "      <td>4.421053</td>\n",
       "      <td>3</td>\n",
       "      <td>13.130</td>\n",
       "    </tr>\n",
       "    <tr>\n",
       "      <th>4</th>\n",
       "      <td>hex</td>\n",
       "      <td>19</td>\n",
       "      <td>6</td>\n",
       "      <td>4.421053</td>\n",
       "      <td>0</td>\n",
       "      <td>9.120</td>\n",
       "    </tr>\n",
       "  </tbody>\n",
       "</table>\n",
       "</div>"
      ],
      "text/plain": [
       "  topology  cells_number  possible_moves  connection_degree  depth  \\\n",
       "0      hex            19               6           4.421053      2   \n",
       "1      hex            19               6           4.421053      1   \n",
       "2      hex            19               6           4.421053      4   \n",
       "3      hex            19               6           4.421053      3   \n",
       "4      hex            19               6           4.421053      0   \n",
       "\n",
       "   mean_log2_max_tile  \n",
       "0              11.275  \n",
       "1              11.105  \n",
       "2              13.065  \n",
       "3              13.130  \n",
       "4               9.120  "
      ]
     },
     "execution_count": 78,
     "metadata": {},
     "output_type": "execute_result"
    }
   ],
   "source": [
    "df = pd.read_csv(DATA_PATH)\n",
    "df.head(5)"
   ]
  },
  {
   "cell_type": "markdown",
   "metadata": {},
   "source": [
    "Model training"
   ]
  },
  {
   "cell_type": "code",
   "execution_count": 79,
   "metadata": {},
   "outputs": [],
   "source": [
    "features = ['cells_number', 'possible_moves', 'connection_degree', 'depth']\n",
    "X = df[features].values\n",
    "y = df['mean_log2_max_tile'].values"
   ]
  },
  {
   "cell_type": "code",
   "execution_count": 80,
   "metadata": {},
   "outputs": [],
   "source": [
    "X_const = sm.add_constant(X)\n",
    "model = sm.OLS(y, X_const).fit()"
   ]
  },
  {
   "cell_type": "markdown",
   "metadata": {},
   "source": [
    "Evaluating"
   ]
  },
  {
   "cell_type": "code",
   "execution_count": 81,
   "metadata": {},
   "outputs": [],
   "source": [
    "X_pred = sm.add_constant(X)\n",
    "y_pred = model.predict(X_pred)"
   ]
  },
  {
   "cell_type": "code",
   "execution_count": 82,
   "metadata": {},
   "outputs": [],
   "source": [
    "df['predicted_mean_log2_max_tile'] = y_pred\n",
    "df_comparison = df[['depth', 'cells_number', 'possible_moves', 'connection_degree', 'mean_log2_max_tile', 'predicted_mean_log2_max_tile']]"
   ]
  },
  {
   "cell_type": "markdown",
   "metadata": {},
   "source": [
    "Understanding the model"
   ]
  },
  {
   "cell_type": "code",
   "execution_count": 83,
   "metadata": {},
   "outputs": [
    {
     "data": {
      "text/html": [
       "<div>\n",
       "<style scoped>\n",
       "    .dataframe tbody tr th:only-of-type {\n",
       "        vertical-align: middle;\n",
       "    }\n",
       "\n",
       "    .dataframe tbody tr th {\n",
       "        vertical-align: top;\n",
       "    }\n",
       "\n",
       "    .dataframe thead th {\n",
       "        text-align: right;\n",
       "    }\n",
       "</style>\n",
       "<table border=\"1\" class=\"dataframe\">\n",
       "  <thead>\n",
       "    <tr style=\"text-align: right;\">\n",
       "      <th></th>\n",
       "      <th>feature</th>\n",
       "      <th>coef</th>\n",
       "      <th>std_error</th>\n",
       "      <th>p_value</th>\n",
       "    </tr>\n",
       "  </thead>\n",
       "  <tbody>\n",
       "    <tr>\n",
       "      <th>4</th>\n",
       "      <td>depth</td>\n",
       "      <td>0.697400</td>\n",
       "      <td>0.084254</td>\n",
       "      <td>6.857939e-08</td>\n",
       "    </tr>\n",
       "    <tr>\n",
       "      <th>2</th>\n",
       "      <td>possible_moves</td>\n",
       "      <td>0.641095</td>\n",
       "      <td>0.266127</td>\n",
       "      <td>2.575684e-02</td>\n",
       "    </tr>\n",
       "    <tr>\n",
       "      <th>1</th>\n",
       "      <td>cells_number</td>\n",
       "      <td>0.411684</td>\n",
       "      <td>0.027122</td>\n",
       "      <td>1.933925e-12</td>\n",
       "    </tr>\n",
       "    <tr>\n",
       "      <th>3</th>\n",
       "      <td>connection_degree</td>\n",
       "      <td>0.194200</td>\n",
       "      <td>0.409605</td>\n",
       "      <td>6.405531e-01</td>\n",
       "    </tr>\n",
       "    <tr>\n",
       "      <th>0</th>\n",
       "      <td>intercept</td>\n",
       "      <td>-2.545328</td>\n",
       "      <td>0.780274</td>\n",
       "      <td>3.901101e-03</td>\n",
       "    </tr>\n",
       "  </tbody>\n",
       "</table>\n",
       "</div>"
      ],
      "text/plain": [
       "             feature      coef  std_error       p_value\n",
       "4              depth  0.697400   0.084254  6.857939e-08\n",
       "2     possible_moves  0.641095   0.266127  2.575684e-02\n",
       "1       cells_number  0.411684   0.027122  1.933925e-12\n",
       "3  connection_degree  0.194200   0.409605  6.405531e-01\n",
       "0          intercept -2.545328   0.780274  3.901101e-03"
      ]
     },
     "execution_count": 83,
     "metadata": {},
     "output_type": "execute_result"
    }
   ],
   "source": [
    "summary_df = pd.DataFrame({\n",
    "    \"feature\": [\"intercept\", \"cells_number\", \"possible_moves\", \"connection_degree\", \"depth\"],\n",
    "    \"coef\": model.params,\n",
    "    \"std_error\": model.bse,\n",
    "    \"p_value\": model.pvalues\n",
    "}).sort_values(by=\"coef\", ascending=False)\n",
    "summary_df"
   ]
  },
  {
   "cell_type": "markdown",
   "metadata": {},
   "source": [
    "Comparing predicted performance across different depths\n",
    "\n",
    "\n",
    "\n",
    "\n",
    "\n",
    "\n",
    "\n",
    "\n",
    "\n"
   ]
  },
  {
   "cell_type": "code",
   "execution_count": 84,
   "metadata": {},
   "outputs": [
    {
     "data": {
      "image/png": "[encoded data removed]",
      "text/plain": [
       "<Figure size 1800x500 with 3 Axes>"
      ]
     },
     "metadata": {},
     "output_type": "display_data"
    }
   ],
   "source": [
    "topologies = df[\"topology\"].unique()\n",
    "n_topos = len(topologies)\n",
    "\n",
    "fig, axes = plt.subplots(nrows=1, ncols=n_topos, figsize=(6 * n_topos, 5), sharey=True)\n",
    "\n",
    "if n_topos == 1:\n",
    "    axes = [axes]\n",
    "\n",
    "for ax, topo in zip(axes, topologies):\n",
    "    topo_df = df[df[\"topology\"] == topo]\n",
    "\n",
    "    ax.scatter(\n",
    "        topo_df[\"mean_log2_max_tile\"],\n",
    "        topo_df[\"predicted_mean_log2_max_tile\"],\n",
    "        color='blue',\n",
    "        marker='o',\n",
    "        label='Real vs Predito'\n",
    "    )\n",
    "    \n",
    "    # Linha y = x (linha de referência ideal)\n",
    "    min_val = min(topo_df[\"mean_log2_max_tile\"].min(), topo_df[\"predicted_mean_log2_max_tile\"].min())\n",
    "    max_val = max(topo_df[\"mean_log2_max_tile\"].max(), topo_df[\"predicted_mean_log2_max_tile\"].max())\n",
    "    ax.plot([min_val, max_val], [min_val, max_val], 'r--', label='Ideal (y=x)')\n",
    "\n",
    "    ax.set_title(f\"Topology: {topo.capitalize()}\")\n",
    "    ax.set_xlabel(\"Valor Real\")\n",
    "    ax.legend()\n",
    "\n",
    "axes[0].set_ylabel(\"Valor Predito\")\n",
    "\n",
    "plt.tight_layout()\n",
    "plt.show()"
   ]
  },
  {
   "cell_type": "code",
   "execution_count": 85,
   "metadata": {},
   "outputs": [
    {
     "name": "stdout",
     "output_type": "stream",
     "text": [
      "             feature        VIF\n",
      "0              const  42.882496\n",
      "1       cells_number   1.065285\n",
      "2     possible_moves   4.788885\n",
      "3  connection_degree   4.795820\n",
      "4              depth   1.000000\n"
     ]
    }
   ],
   "source": [
    "from statsmodels.stats.outliers_influence import variance_inflation_factor\n",
    "import pandas as pd\n",
    "\n",
    "# Supondo que X seja o dataframe só com suas features numéricas (sem a variável target)\n",
    "X = df.drop(columns=['mean_log2_max_tile', 'predicted_mean_log2_max_tile', 'topology'])  # Ajuste conforme suas colunas\n",
    "\n",
    "# Se tiver variáveis categóricas transformadas em dummies, pode manter no X\n",
    "\n",
    "# Adiciona uma constante (bias) para o cálculo de VIF\n",
    "from statsmodels.tools.tools import add_constant\n",
    "X_const = add_constant(X)\n",
    "\n",
    "# Calcula VIF para cada variável\n",
    "vif_data = pd.DataFrame()\n",
    "vif_data[\"feature\"] = X_const.columns\n",
    "vif_data[\"VIF\"] = [variance_inflation_factor(X_const.values, i) for i in range(X_const.shape[1])]\n",
    "\n",
    "print(vif_data)"
   ]
  },
  {
   "cell_type": "code",
   "execution_count": 86,
   "metadata": {},
   "outputs": [
    {
     "data": {
      "text/html": [
       "<div>\n",
       "<style scoped>\n",
       "    .dataframe tbody tr th:only-of-type {\n",
       "        vertical-align: middle;\n",
       "    }\n",
       "\n",
       "    .dataframe tbody tr th {\n",
       "        vertical-align: top;\n",
       "    }\n",
       "\n",
       "    .dataframe thead th {\n",
       "        text-align: right;\n",
       "    }\n",
       "</style>\n",
       "<table border=\"1\" class=\"dataframe\">\n",
       "  <thead>\n",
       "    <tr style=\"text-align: right;\">\n",
       "      <th></th>\n",
       "      <th>possible_moves</th>\n",
       "      <th>connection_degree</th>\n",
       "    </tr>\n",
       "  </thead>\n",
       "  <tbody>\n",
       "    <tr>\n",
       "      <th>possible_moves</th>\n",
       "      <td>1.000000</td>\n",
       "      <td>0.882338</td>\n",
       "    </tr>\n",
       "    <tr>\n",
       "      <th>connection_degree</th>\n",
       "      <td>0.882338</td>\n",
       "      <td>1.000000</td>\n",
       "    </tr>\n",
       "  </tbody>\n",
       "</table>\n",
       "</div>"
      ],
      "text/plain": [
       "                   possible_moves  connection_degree\n",
       "possible_moves           1.000000           0.882338\n",
       "connection_degree        0.882338           1.000000"
      ]
     },
     "execution_count": 86,
     "metadata": {},
     "output_type": "execute_result"
    }
   ],
   "source": [
    "df[['possible_moves', 'connection_degree']].corr()"
   ]
  },
  {
   "cell_type": "code",
   "execution_count": null,
   "metadata": {},
   "outputs": [],
   "source": []
  }
 ],
 "metadata": {
  "kernelspec": {
   "display_name": "Python 3",
   "language": "python",
   "name": "python3"
  },
  "language_info": {
   "codemirror_mode": {
    "name": "ipython",
    "version": 3
   },
   "file_extension": ".py",
   "mimetype": "text/x-python",
   "name": "python",
   "nbconvert_exporter": "python",
   "pygments_lexer": "ipython3",
   "version": "3.13.2"
  }
 },
 "nbformat": 4,
 "nbformat_minor": 2
}
